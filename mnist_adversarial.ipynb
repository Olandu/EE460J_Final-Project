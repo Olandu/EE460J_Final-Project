{
 "cells": [
  {
   "cell_type": "code",
   "execution_count": 7,
   "metadata": {},
   "outputs": [],
   "source": [
    "%matplotlib inline\n",
    "import network.network as Network\n",
    "import pickle\n",
    "import matplotlib.pyplot as plt\n",
    "import numpy as np"
   ]
  },
  {
   "cell_type": "code",
   "execution_count": 6,
   "metadata": {},
   "outputs": [],
   "source": [
    "infile = open(\"train\", \"rb\")\n",
    "training_data = np.load(infile, encoding='latin1')\n",
    "infile.close()\n",
    "\n",
    "infile2 = open(\"test\", \"rb\")\n",
    "test_data = np.load(infile2, encoding='latin1')\n",
    "infile2.close()\n",
    "\n",
    "with open('network/trained_network.pkl', 'rb') as f:\n",
    "    u = pickle._Unpickler(f)\n",
    "    u.encoding = 'latin1'\n",
    "    net = u.load()"
   ]
  },
  {
   "cell_type": "code",
   "execution_count": 137,
   "metadata": {},
   "outputs": [],
   "source": [
    "def sigmoid(z):\n",
    "    \"\"\"The sigmoid function.\"\"\"\n",
    "    return 1.0/(1.0+np.exp(-z))\n",
    "                                                                                                                                                                                \n",
    "def sigmoid_prime(z):\n",
    "    \"\"\"Derivative of the sigmoid function.\"\"\"\n",
    "    return sigmoid(z)*(1-sigmoid(z))\n",
    "\n",
    "def input_derivative(net, x, y):\n",
    "    \"\"\" Calculate derivatives wrt the inputs\"\"\"\n",
    "    nabla_b = [np.zeros(b.shape) for b in net.biases]\n",
    "    nabla_w = [np.zeros(w.shape) for w in net.weights]\n",
    "    \n",
    "    # feedforward\n",
    "    activation = x\n",
    "    activations = [x] # list to store all the activations, layer by layer\n",
    "    zs = [] # list to store all the z vectors, layer by layer\n",
    "    for b, w in zip(net.biases, net.weights):\n",
    "        z = np.dot(w, activation)+b\n",
    "        zs.append(z)\n",
    "        activation = sigmoid(z)\n",
    "        activations.append(activation)\n",
    "        \n",
    "    # backward pass\n",
    "    delta = net.cost_derivative(activations[-1], y) * \\\n",
    "        sigmoid_prime(zs[-1])\n",
    "    nabla_b[-1] = delta\n",
    "    nabla_w[-1] = np.dot(delta, activations[-2].transpose())\n",
    "\n",
    "    for l in range(2, net.num_layers):\n",
    "        z = zs[-l]\n",
    "        sp = sigmoid_prime(z)\n",
    "        delta = np.dot(net.weights[-l+1].transpose(), delta) * sp\n",
    "        nabla_b[-l] = delta\n",
    "        nabla_w[-l] = np.dot(delta, activations[-l-1].transpose())\n",
    "        \n",
    "    # Return derivatives WRT to input\n",
    "    return net.weights[0].T.dot(delta)\n",
    "\n",
    "def adversarial(net, n, steps, eta):\n",
    "    \"\"\"\n",
    "    net : network object\n",
    "        neural network instance to use\n",
    "    n : integer\n",
    "        our goal label (just an int, the function transforms it into a one-hot vector)\n",
    "    steps : integer\n",
    "        number of steps for gradient descent\n",
    "    eta : float\n",
    "        step size for gradient descent\n",
    "    \"\"\"\n",
    "    # Set the goal output\n",
    "    goal = np.zeros((10, 1))\n",
    "    goal[n] = 1\n",
    "\n",
    "    # Create a random image to initialize gradient descent with\n",
    "    x = np.random.normal(.5, .3, (784, 1))\n",
    "\n",
    "    # Gradient descent on the input\n",
    "    for i in range(steps):\n",
    "        # Calculate the derivative\n",
    "        d = input_derivative(net,x,goal)\n",
    "        \n",
    "        # The GD update on x\n",
    "        x -= eta * d\n",
    "        \n",
    "    return x\n",
    "\n",
    "# Wrapper function\n",
    "def generate(n):\n",
    "    \"\"\"\n",
    "    n : integer\n",
    "        goal label (not a one hot vector)\n",
    "    \"\"\"\n",
    "    # a = adversarial(net, n, 1000, 1)\n",
    "    a = adversarial(net, n, 1000, 0.15)\n",
    "    x = np.round(net.feedforward(a), 2)\n",
    "    \n",
    "    print('Network Output: \\n' + str(x) + '\\n')\n",
    "    \n",
    "    print('Network Prediction: ' + str(np.argmax(x)) + '\\n')\n",
    "    \n",
    "    print('Adversarial Example: ')\n",
    "    plt.imshow(a.reshape(28,28), cmap='Greys')\n",
    "    \n",
    "def sneaky_adversarial(net, n, m, x_target, steps, eta, lam=.05):\n",
    "    \"\"\"\n",
    "    net : network object\n",
    "        neural network instance to use\n",
    "    n : integer\n",
    "        our goal label (just an int, the function transforms it into a one-hot vector)\n",
    "    x_target : numpy vector\n",
    "        our goal image for the adversarial example\n",
    "    steps : integer\n",
    "        number of steps for gradient descent\n",
    "    eta : float\n",
    "        step size for gradient descent\n",
    "    lam : float\n",
    "        lambda, our regularization parameter. Default is .05\n",
    "    \"\"\"\n",
    "    \n",
    "    # Set the goal output\n",
    "    goal = np.zeros((10, 1))\n",
    "    goal[n] = 1\n",
    "\n",
    "    # Create a random image to initialize gradient descent with\n",
    "    # x = np.random.normal(.5, .3, (784, 1))\n",
    "    \n",
    "    # Initialize noise to 0\n",
    "    noise = np.zeros((784, 1), dtype=float)\n",
    "\n",
    "    # Gradient descent on the input\n",
    "    for i in range(steps):\n",
    "        if i == 999:\n",
    "            print(\"Max iterations reached\")\n",
    "        noisy_image = x_target + noise\n",
    "        noisy_image = np.clip(a=noisy_image, a_min=0.0, a_max=1.0)\n",
    "        \n",
    "        # Do the prediction\n",
    "        pred = net.feedforward(noisy_image)\n",
    "        \n",
    "        # Pass pred through softmax because probabilites aren't adding up to 1\n",
    "        ps = np.exp(pred)\n",
    "        ps /= np.sum(ps)\n",
    "        pred = ps\n",
    "        \n",
    "        score_target = pred[n]\n",
    "        \n",
    "        # Calculate the derivative\n",
    "        grad = input_derivative(net,noisy_image,goal)\n",
    "        sq_grad = np.array(grad).squeeze()\n",
    "        grad_absmax = np.abs(grad).max()\n",
    "        \n",
    "        # If the gradient is very small then use a lower limit,\n",
    "        # because we will use it as a divisor.\n",
    "        if grad_absmax < 1e-10:\n",
    "            grad_absmax = 1e-10\n",
    "            \n",
    "        # Calculate the step-size for updating the image-noise.\n",
    "        # This ensures that at least one pixel colour is changed by 7.\n",
    "        # Recall that pixel colours can have 255 different values.\n",
    "        # This step-size was found to give fast convergence.\n",
    "        # step_size = 0.01 / grad_absmax\n",
    "        step_size = 0.05 / grad_absmax\n",
    "        \n",
    "        # The GD update on x, with an added penalty to the cost function\n",
    "        # ONLY CHANGE IS RIGHT HERE!!!\n",
    "        # x -= eta * (grad + lam * (x - x_target))\n",
    "        if score_target[0] < 0.9:\n",
    "            # Update the image-noise by subtracting the gradient\n",
    "            # scaled by the step-size.\n",
    "            noise -= step_size * grad\n",
    "\n",
    "            # Ensure the noise is within the desired range.\n",
    "            # This avoids distorting the image too much.\n",
    "            noise = np.clip(a=noise,\n",
    "                            a_min=-1.0,\n",
    "                            a_max=1.0)\n",
    "        else:\n",
    "            # Abort the optimization because the score is high enough.\n",
    "            print(\"Iterations: \", i)\n",
    "            break\n",
    "\n",
    "    return noisy_image\n",
    "\n",
    "# Wrapper function\n",
    "def sneaky_generate(n, m):\n",
    "    \"\"\"\n",
    "    n: int 0-9, the target number to match\n",
    "    m: index of example image to use (from the test set)\n",
    "    \"\"\"\n",
    "    \n",
    "    # Find random instance of m in test set\n",
    "    idx = np.random.randint(0,8000)\n",
    "    while test_data[idx][1] != m:\n",
    "        idx += 1\n",
    "    \n",
    "    # Hardcode the parameters for the wrapper function\n",
    "    # net, n, x_target, steps, eta, lam=.05\n",
    "    a = sneaky_adversarial(net, n, m, test_data[idx][0], 1000, 0.1, lam=0.05)\n",
    "    # x = np.round(net.feedforward(a), 2)\n",
    "    x = net.feedforward(a)\n",
    "    \n",
    "    squeezed_x = np.squeeze(x)\n",
    "    \n",
    "    print('\\nWhat we want our adversarial example to look like: ')\n",
    "    plt.imshow(test_data[idx][0].reshape((28,28)), cmap='Greys')\n",
    "    plt.show()\n",
    "    \n",
    "    print('\\n')\n",
    "    \n",
    "    print('Adversarial Example: ')\n",
    "    \n",
    "    plt.imshow(a.reshape(28,28), cmap='Greys')\n",
    "    plt.show()\n",
    "    \n",
    "    print('Network Prediction: ' + str(np.argmax(squeezed_x)) + '\\n')\n",
    "    \n",
    "    #print('Network Output: \\n' + str(x) + '\\n')\n",
    "    print(\"Network Output:\")\n",
    "    print(x)\n",
    "    \n",
    "    return a"
   ]
  },
  {
   "cell_type": "code",
   "execution_count": 153,
   "metadata": {
    "scrolled": false
   },
   "outputs": [
    {
     "name": "stdout",
     "output_type": "stream",
     "text": [
      "Max iterations reached\n",
      "\n",
      "What we want our adversarial example to look like: \n"
     ]
    },
    {
     "data": {
      "image/png": "[encoded data removed]",
      "text/plain": [
       "<Figure size 432x288 with 1 Axes>"
      ]
     },
     "metadata": {},
     "output_type": "display_data"
    },
    {
     "name": "stdout",
     "output_type": "stream",
     "text": [
      "\n",
      "\n",
      "Adversarial Example: \n"
     ]
    },
    {
     "data": {
      "image/png": "[encoded data removed]",
      "text/plain": [
       "<Figure size 432x288 with 1 Axes>"
      ]
     },
     "metadata": {},
     "output_type": "display_data"
    },
    {
     "name": "stdout",
     "output_type": "stream",
     "text": [
      "Network Prediction: 5\n",
      "\n",
      "Network Output:\n",
      "[[5.59241053e-09]\n",
      " [1.06642418e-12]\n",
      " [1.23110392e-04]\n",
      " [7.13881585e-09]\n",
      " [9.85540384e-07]\n",
      " [9.99993290e-01]\n",
      " [5.79896145e-05]\n",
      " [8.89260404e-12]\n",
      " [3.20203927e-05]\n",
      " [2.88218116e-09]]\n"
     ]
    }
   ],
   "source": [
    "adv_ex = sneaky_generate(5, 2)"
   ]
  },
  {
   "cell_type": "code",
   "execution_count": 13,
   "metadata": {},
   "outputs": [
    {
     "data": {
      "text/plain": [
       "(784, 1)"
      ]
     },
     "execution_count": 13,
     "metadata": {},
     "output_type": "execute_result"
    }
   ],
   "source": [
    "idx = 0\n",
    "test_data[idx][0].shape"
   ]
  },
  {
   "cell_type": "code",
   "execution_count": 35,
   "metadata": {},
   "outputs": [
    {
     "name": "stdout",
     "output_type": "stream",
     "text": [
      "Network Prediction:  7\n",
      "[[3.84940104e-10]\n",
      " [3.09685480e-09]\n",
      " [2.71110833e-06]\n",
      " [2.50655822e-09]\n",
      " [7.76256740e-08]\n",
      " [5.71491074e-06]\n",
      " [1.28826623e-05]\n",
      " [7.98682411e-05]\n",
      " [5.99688781e-05]\n",
      " [1.84192658e-05]]\n"
     ]
    }
   ],
   "source": [
    "pred = net.feedforward(adv_ex)\n",
    "print(\"Network Prediction: \", str(np.argmax(pred)))\n",
    "print(pred)"
   ]
  },
  {
   "cell_type": "code",
   "execution_count": null,
   "metadata": {},
   "outputs": [],
   "source": []
  }
 ],
 "metadata": {
  "kernelspec": {
   "display_name": "Python 3",
   "language": "python",
   "name": "python3"
  },
  "language_info": {
   "codemirror_mode": {
    "name": "ipython",
    "version": 3
   },
   "file_extension": ".py",
   "mimetype": "text/x-python",
   "name": "python",
   "nbconvert_exporter": "python",
   "pygments_lexer": "ipython3",
   "version": "3.6.5"
  }
 },
 "nbformat": 4,
 "nbformat_minor": 2
}
